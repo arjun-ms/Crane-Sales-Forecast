{
 "cells": [
  {
   "cell_type": "code",
   "execution_count": 96,
   "metadata": {
    "id": "6aF8j0fgfxNd"
   },
   "outputs": [],
   "source": [
    "import torch\n",
    "from torch import nn\n",
    "import pandas as pd\n",
    "import numpy as np\n",
    "import torch.optim as optim\n",
    "import torch.utils.data as data\n",
    "from torch.utils.data import DataLoader\n",
    "import torch.utils.data as data\n",
    "from torch.utils.data import Dataset\n",
    "import plotly.express as px"
   ]
  },
  {
   "cell_type": "code",
   "execution_count": 38,
   "metadata": {
    "colab": {
     "base_uri": "https://localhost:8080/",
     "height": 36
    },
    "id": "WPL-JHlUn-f6",
    "outputId": "75397cf5-7c70-4acc-bcf6-edecab74c1f3"
   },
   "outputs": [
    {
     "data": {
      "application/vnd.google.colaboratory.intrinsic+json": {
       "type": "string"
      },
      "text/plain": [
       "'cpu'"
      ]
     },
     "execution_count": 38,
     "metadata": {},
     "output_type": "execute_result"
    }
   ],
   "source": [
    "device = 'cuda' if torch.cuda.is_available() else 'cpu'\n",
    "device"
   ]
  },
  {
   "cell_type": "code",
   "execution_count": 39,
   "metadata": {
    "colab": {
     "base_uri": "https://localhost:8080/"
    },
    "id": "ejBupIXvoMFp",
    "outputId": "0502e9fb-9a8e-4389-9f2d-0946a3837a78"
   },
   "outputs": [
    {
     "data": {
      "text/plain": [
       "<torch._C.Generator at 0x7f369e53b170>"
      ]
     },
     "execution_count": 39,
     "metadata": {},
     "output_type": "execute_result"
    }
   ],
   "source": [
    "torch.manual_seed(42)"
   ]
  },
  {
   "cell_type": "code",
   "execution_count": 73,
   "metadata": {
    "id": "o2zUOdRD5LHd"
   },
   "outputs": [],
   "source": [
    "df = pd.read_csv('TimeSeries.csv')"
   ]
  },
  {
   "cell_type": "code",
   "execution_count": 74,
   "metadata": {
    "id": "_8HriQIX40F_"
   },
   "outputs": [],
   "source": [
    "df['Date'] = pd.to_datetime(df[['Year', 'Month']].assign(DAY=1))\n",
    "df.drop(['Year','Month'],axis=1,inplace=True)\n",
    "df.rename(columns = {' Sales':'Sales'}, inplace = True)\n",
    "df[\"Sales\"] = pd.to_numeric(df[\"Sales\"].str.replace(',', ''))\n",
    "df.set_index('Date',inplace=True)"
   ]
  },
  {
   "cell_type": "code",
   "execution_count": 72,
   "metadata": {
    "colab": {
     "base_uri": "https://localhost:8080/",
     "height": 455
    },
    "id": "k6ZYtmzd5epv",
    "outputId": "df6d488f-d49c-4a68-e93b-8fe2e76cb868"
   },
   "outputs": [
    {
     "data": {
      "text/html": [
       "\n",
       "  <div id=\"df-d146120f-6d91-4d5e-a253-c2c1507acb57\">\n",
       "    <div class=\"colab-df-container\">\n",
       "      <div>\n",
       "<style scoped>\n",
       "    .dataframe tbody tr th:only-of-type {\n",
       "        vertical-align: middle;\n",
       "    }\n",
       "\n",
       "    .dataframe tbody tr th {\n",
       "        vertical-align: top;\n",
       "    }\n",
       "\n",
       "    .dataframe thead th {\n",
       "        text-align: right;\n",
       "    }\n",
       "</style>\n",
       "<table border=\"1\" class=\"dataframe\">\n",
       "  <thead>\n",
       "    <tr style=\"text-align: right;\">\n",
       "      <th></th>\n",
       "      <th>Sales</th>\n",
       "    </tr>\n",
       "    <tr>\n",
       "      <th>Date</th>\n",
       "      <th></th>\n",
       "    </tr>\n",
       "  </thead>\n",
       "  <tbody>\n",
       "    <tr>\n",
       "      <th>2005-01-01</th>\n",
       "      <td>10827</td>\n",
       "    </tr>\n",
       "    <tr>\n",
       "      <th>2005-02-01</th>\n",
       "      <td>12049</td>\n",
       "    </tr>\n",
       "    <tr>\n",
       "      <th>2005-03-01</th>\n",
       "      <td>18298</td>\n",
       "    </tr>\n",
       "    <tr>\n",
       "      <th>2005-04-01</th>\n",
       "      <td>17834</td>\n",
       "    </tr>\n",
       "    <tr>\n",
       "      <th>2005-05-01</th>\n",
       "      <td>16480</td>\n",
       "    </tr>\n",
       "    <tr>\n",
       "      <th>...</th>\n",
       "      <td>...</td>\n",
       "    </tr>\n",
       "    <tr>\n",
       "      <th>2017-05-01</th>\n",
       "      <td>31739</td>\n",
       "    </tr>\n",
       "    <tr>\n",
       "      <th>2017-06-01</th>\n",
       "      <td>30315</td>\n",
       "    </tr>\n",
       "    <tr>\n",
       "      <th>2017-07-01</th>\n",
       "      <td>25046</td>\n",
       "    </tr>\n",
       "    <tr>\n",
       "      <th>2017-08-01</th>\n",
       "      <td>23285</td>\n",
       "    </tr>\n",
       "    <tr>\n",
       "      <th>2017-09-01</th>\n",
       "      <td>26721</td>\n",
       "    </tr>\n",
       "  </tbody>\n",
       "</table>\n",
       "<p>153 rows × 1 columns</p>\n",
       "</div>\n",
       "      <button class=\"colab-df-convert\" onclick=\"convertToInteractive('df-d146120f-6d91-4d5e-a253-c2c1507acb57')\"\n",
       "              title=\"Convert this dataframe to an interactive table.\"\n",
       "              style=\"display:none;\">\n",
       "        \n",
       "  <svg xmlns=\"http://www.w3.org/2000/svg\" height=\"24px\"viewBox=\"0 0 24 24\"\n",
       "       width=\"24px\">\n",
       "    <path d=\"M0 0h24v24H0V0z\" fill=\"none\"/>\n",
       "    <path d=\"M18.56 5.44l.94 2.06.94-2.06 2.06-.94-2.06-.94-.94-2.06-.94 2.06-2.06.94zm-11 1L8.5 8.5l.94-2.06 2.06-.94-2.06-.94L8.5 2.5l-.94 2.06-2.06.94zm10 10l.94 2.06.94-2.06 2.06-.94-2.06-.94-.94-2.06-.94 2.06-2.06.94z\"/><path d=\"M17.41 7.96l-1.37-1.37c-.4-.4-.92-.59-1.43-.59-.52 0-1.04.2-1.43.59L10.3 9.45l-7.72 7.72c-.78.78-.78 2.05 0 2.83L4 21.41c.39.39.9.59 1.41.59.51 0 1.02-.2 1.41-.59l7.78-7.78 2.81-2.81c.8-.78.8-2.07 0-2.86zM5.41 20L4 18.59l7.72-7.72 1.47 1.35L5.41 20z\"/>\n",
       "  </svg>\n",
       "      </button>\n",
       "      \n",
       "  <style>\n",
       "    .colab-df-container {\n",
       "      display:flex;\n",
       "      flex-wrap:wrap;\n",
       "      gap: 12px;\n",
       "    }\n",
       "\n",
       "    .colab-df-convert {\n",
       "      background-color: #E8F0FE;\n",
       "      border: none;\n",
       "      border-radius: 50%;\n",
       "      cursor: pointer;\n",
       "      display: none;\n",
       "      fill: #1967D2;\n",
       "      height: 32px;\n",
       "      padding: 0 0 0 0;\n",
       "      width: 32px;\n",
       "    }\n",
       "\n",
       "    .colab-df-convert:hover {\n",
       "      background-color: #E2EBFA;\n",
       "      box-shadow: 0px 1px 2px rgba(60, 64, 67, 0.3), 0px 1px 3px 1px rgba(60, 64, 67, 0.15);\n",
       "      fill: #174EA6;\n",
       "    }\n",
       "\n",
       "    [theme=dark] .colab-df-convert {\n",
       "      background-color: #3B4455;\n",
       "      fill: #D2E3FC;\n",
       "    }\n",
       "\n",
       "    [theme=dark] .colab-df-convert:hover {\n",
       "      background-color: #434B5C;\n",
       "      box-shadow: 0px 1px 3px 1px rgba(0, 0, 0, 0.15);\n",
       "      filter: drop-shadow(0px 1px 2px rgba(0, 0, 0, 0.3));\n",
       "      fill: #FFFFFF;\n",
       "    }\n",
       "  </style>\n",
       "\n",
       "      <script>\n",
       "        const buttonEl =\n",
       "          document.querySelector('#df-d146120f-6d91-4d5e-a253-c2c1507acb57 button.colab-df-convert');\n",
       "        buttonEl.style.display =\n",
       "          google.colab.kernel.accessAllowed ? 'block' : 'none';\n",
       "\n",
       "        async function convertToInteractive(key) {\n",
       "          const element = document.querySelector('#df-d146120f-6d91-4d5e-a253-c2c1507acb57');\n",
       "          const dataTable =\n",
       "            await google.colab.kernel.invokeFunction('convertToInteractive',\n",
       "                                                     [key], {});\n",
       "          if (!dataTable) return;\n",
       "\n",
       "          const docLinkHtml = 'Like what you see? Visit the ' +\n",
       "            '<a target=\"_blank\" href=https://colab.research.google.com/notebooks/data_table.ipynb>data table notebook</a>'\n",
       "            + ' to learn more about interactive tables.';\n",
       "          element.innerHTML = '';\n",
       "          dataTable['output_type'] = 'display_data';\n",
       "          await google.colab.output.renderOutput(dataTable, element);\n",
       "          const docLink = document.createElement('div');\n",
       "          docLink.innerHTML = docLinkHtml;\n",
       "          element.appendChild(docLink);\n",
       "        }\n",
       "      </script>\n",
       "    </div>\n",
       "  </div>\n",
       "  "
      ],
      "text/plain": [
       "            Sales\n",
       "Date             \n",
       "2005-01-01  10827\n",
       "2005-02-01  12049\n",
       "2005-03-01  18298\n",
       "2005-04-01  17834\n",
       "2005-05-01  16480\n",
       "...           ...\n",
       "2017-05-01  31739\n",
       "2017-06-01  30315\n",
       "2017-07-01  25046\n",
       "2017-08-01  23285\n",
       "2017-09-01  26721\n",
       "\n",
       "[153 rows x 1 columns]"
      ]
     },
     "execution_count": 72,
     "metadata": {},
     "output_type": "execute_result"
    }
   ],
   "source": [
    "df"
   ]
  },
  {
   "cell_type": "code",
   "execution_count": 75,
   "metadata": {
    "id": "6FUxWCXe6BWY"
   },
   "outputs": [],
   "source": [
    "from sklearn.preprocessing import StandardScaler\n",
    "\n",
    "# Fit scalers\n",
    "scalers = {}\n",
    "for x in df.columns:\n",
    "  scalers[x] = StandardScaler().fit(df[x].values.reshape(-1, 1))\n",
    "\n",
    "# Transform data via scalers\n",
    "norm_df = df.copy()\n",
    "for i, key in enumerate(scalers.keys()):\n",
    "  norm = scalers[key].transform(norm_df.iloc[:, i].values.reshape(-1, 1))\n",
    "  norm_df.iloc[:, i] = norm"
   ]
  },
  {
   "cell_type": "code",
   "execution_count": 62,
   "metadata": {
    "id": "62KfCKrL6EB7"
   },
   "outputs": [],
   "source": [
    "# Defining a function that creates sequences and targets as shown above\n",
    "def generate_sequences(df: pd.DataFrame, tw: int, pw: int, target_columns, drop_targets=False):\n",
    "  # df: Pandas DataFrame of the univariate time-series\n",
    "  # btw: Training Window - Integer defining how many steps to look back\n",
    "  # pw: Prediction Window - Integer defining how many steps forward to predict\n",
    "\n",
    "  # returns: dictionary of sequences and targets for all sequences\n",
    "  data = dict() # Store results into a dictionary\n",
    "  L = len(df)\n",
    "  for i in range(L-tw):\n",
    "    # Option to drop target from dataframe\n",
    "    if drop_targets:\n",
    "      df.drop(target_columns, axis=1, inplace=True)\n",
    "\n",
    "    # Get current sequence  \n",
    "    sequence = df[i:i+tw].values\n",
    "    # Get values right after the current sequence\n",
    "    target = df[i+tw:i+tw+pw][target_columns].values\n",
    "    data[i] = {'sequence': sequence, 'target': target}\n",
    "  return data"
   ]
  },
  {
   "cell_type": "code",
   "execution_count": 78,
   "metadata": {
    "id": "KUf7lYPH6Lw-"
   },
   "outputs": [],
   "source": [
    "class SequenceDataset(Dataset):\n",
    "\n",
    "  def __init__(self, df):\n",
    "    self.data = df\n",
    "\n",
    "  def __getitem__(self, idx):\n",
    "    sample = self.data[idx]\n",
    "    return torch.Tensor(sample['sequence']), torch.Tensor(sample['target'])\n",
    "  \n",
    "  def __len__(self):\n",
    "    return len(self.data)"
   ]
  },
  {
   "cell_type": "code",
   "execution_count": 80,
   "metadata": {
    "id": "Gn4gsNp96QDb"
   },
   "outputs": [],
   "source": [
    "# Here we are defining properties for our model\n",
    "BATCH_SIZE = 16\n",
    "nhid = 50\n",
    "nout = 1\n",
    "sequence_len = 5\n",
    "n_dnn_layers = 5\n",
    "ninp = 1\n",
    "split = 0.8\n",
    "\n",
    "sequences = generate_sequences(norm_df.Sales.to_frame(), sequence_len, nout, 'Sales')\n",
    "dataset = SequenceDataset(sequences)\n",
    "\n",
    "# Split the data according to our split ratio and load each subset into a\n",
    "# separate DataLoader object\n",
    "train_len = int(len(dataset)*split)\n",
    "lens = [train_len, len(dataset)-train_len]\n",
    "train_ds, test_ds = data.random_split(dataset, lens)\n",
    "trainloader = DataLoader(train_ds, batch_size=BATCH_SIZE, shuffle=True, drop_last=True)\n",
    "testloader = DataLoader(test_ds, batch_size=BATCH_SIZE, shuffle=True, drop_last=True)"
   ]
  },
  {
   "cell_type": "code",
   "execution_count": 136,
   "metadata": {
    "colab": {
     "base_uri": "https://localhost:8080/"
    },
    "id": "AmxXm2l3Qgnd",
    "outputId": "b2a1646a-0661-460b-efcc-7f7c9b0de7cd"
   },
   "outputs": [
    {
     "data": {
      "text/plain": [
       "[tensor([[[-2.8755e-01],\n",
       "          [-7.5102e-01],\n",
       "          [-1.2197e+00],\n",
       "          [-1.0550e+00],\n",
       "          [-1.3276e+00]],\n",
       " \n",
       "         [[ 6.8491e-01],\n",
       "          [-6.8019e-02],\n",
       "          [-1.1243e-01],\n",
       "          [ 4.7671e-01],\n",
       "          [ 2.5876e-01]],\n",
       " \n",
       "         [[ 4.5577e-01],\n",
       "          [ 3.9089e-01],\n",
       "          [ 2.5104e-01],\n",
       "          [-8.3767e-02],\n",
       "          [-5.6094e-01]],\n",
       " \n",
       "         [[-5.0740e-01],\n",
       "          [-3.9574e-01],\n",
       "          [ 2.1408e+00],\n",
       "          [ 1.1225e+00],\n",
       "          [ 4.8443e-01]],\n",
       " \n",
       "         [[-1.0035e+00],\n",
       "          [-1.5329e+00],\n",
       "          [-1.2485e+00],\n",
       "          [ 1.6421e+00],\n",
       "          [ 5.4380e-01]],\n",
       " \n",
       "         [[-1.3276e+00],\n",
       "          [-1.5148e+00],\n",
       "          [-9.2095e-01],\n",
       "          [-9.3213e-01],\n",
       "          [-9.3071e-01]],\n",
       " \n",
       "         [[-9.2819e-01],\n",
       "          [-5.1952e-01],\n",
       "          [ 2.5048e+00],\n",
       "          [ 1.4174e+00],\n",
       "          [ 8.1924e-01]],\n",
       " \n",
       "         [[-9.2095e-01],\n",
       "          [-9.3213e-01],\n",
       "          [-9.3071e-01],\n",
       "          [-1.0035e+00],\n",
       "          [-1.5329e+00]],\n",
       " \n",
       "         [[-5.9921e-01],\n",
       "          [-5.6614e-01],\n",
       "          [-7.7102e-01],\n",
       "          [-1.1424e+00],\n",
       "          [-3.8361e-01]],\n",
       " \n",
       "         [[ 2.5048e+00],\n",
       "          [ 1.4174e+00],\n",
       "          [ 8.1924e-01],\n",
       "          [ 2.8663e-01],\n",
       "          [-2.5290e-01]],\n",
       " \n",
       "         [[ 7.9700e-02],\n",
       "          [-2.4802e-01],\n",
       "          [-6.2346e-01],\n",
       "          [-1.2942e+00],\n",
       "          [-4.6519e-01]],\n",
       " \n",
       "         [[-7.4791e-02],\n",
       "          [ 4.8361e-02],\n",
       "          [-5.0740e-01],\n",
       "          [-3.9574e-01],\n",
       "          [ 2.1408e+00]],\n",
       " \n",
       "         [[-2.3489e-03],\n",
       "          [ 7.3558e-02],\n",
       "          [-6.1244e-01],\n",
       "          [ 4.8207e-01],\n",
       "          [ 2.9366e+00]],\n",
       " \n",
       "         [[ 6.8046e-02],\n",
       "          [-5.3779e-01],\n",
       "          [ 2.3545e-01],\n",
       "          [-1.5967e-01],\n",
       "          [-2.6692e-01]],\n",
       " \n",
       "         [[-1.1458e+00],\n",
       "          [-2.8755e-01],\n",
       "          [-7.5102e-01],\n",
       "          [-1.2197e+00],\n",
       "          [-1.0550e+00]],\n",
       " \n",
       "         [[-5.6094e-01],\n",
       "          [ 2.1073e-01],\n",
       "          [ 2.7986e-01],\n",
       "          [-1.1416e-01],\n",
       "          [-4.4031e-01]]]),\n",
       " tensor([[-1.5148],\n",
       "         [ 0.2224],\n",
       "         [ 0.2107],\n",
       "         [ 0.5934],\n",
       "         [-0.3342],\n",
       "         [-1.0035],\n",
       "         [ 0.2866],\n",
       "         [-1.2485],\n",
       "         [-0.5705],\n",
       "         [-0.5600],\n",
       "         [-0.8276],\n",
       "         [ 1.1225],\n",
       "         [ 1.4977],\n",
       "         [-0.0066],\n",
       "         [-1.3276],\n",
       "         [-0.5507]])]"
      ]
     },
     "execution_count": 136,
     "metadata": {},
     "output_type": "execute_result"
    }
   ],
   "source": [
    "next(iter(testloader))"
   ]
  },
  {
   "cell_type": "code",
   "execution_count": 81,
   "metadata": {
    "id": "wWIUaQns6Tjz"
   },
   "outputs": [],
   "source": [
    "class LSTMForecaster(nn.Module):\n",
    "\n",
    "\n",
    "  def __init__(self, n_features, n_hidden, n_outputs, sequence_len, n_lstm_layers=1, n_deep_layers=10, use_cuda=False, dropout=0.2):\n",
    "    super().__init__()\n",
    "\n",
    "    self.n_lstm_layers = n_lstm_layers\n",
    "    self.nhid = n_hidden\n",
    "    self.use_cuda = use_cuda # set option for device selection\n",
    "\n",
    "    # LSTM Layer\n",
    "    self.lstm = nn.LSTM(n_features,\n",
    "                        n_hidden,\n",
    "                        num_layers=n_lstm_layers,\n",
    "                        batch_first=True) # As we have transformed our data in this way\n",
    "    \n",
    "    # first dense after lstm\n",
    "    self.fc1 = nn.Linear(n_hidden * sequence_len, n_hidden) \n",
    "    # Dropout layer \n",
    "    self.dropout = nn.Dropout(p=dropout)\n",
    "\n",
    "    # Create fully connected layers (n_hidden x n_deep_layers)\n",
    "    dnn_layers = []\n",
    "    for i in range(n_deep_layers):\n",
    "      # Last layer (n_hidden x n_outputs)\n",
    "      if i == n_deep_layers - 1:\n",
    "        dnn_layers.append(nn.ReLU())\n",
    "        dnn_layers.append(nn.Linear(nhid, n_outputs))\n",
    "      # All other layers (n_hidden x n_hidden) with dropout option\n",
    "      else:\n",
    "        dnn_layers.append(nn.ReLU())\n",
    "        dnn_layers.append(nn.Linear(nhid, nhid))\n",
    "        if dropout:\n",
    "          dnn_layers.append(nn.Dropout(p=dropout))\n",
    "    # compile DNN layers\n",
    "    self.dnn = nn.Sequential(*dnn_layers)\n",
    "\n",
    "  def forward(self, x):\n",
    "\n",
    "    # Initialize hidden state\n",
    "    hidden_state = torch.zeros(self.n_lstm_layers, x.shape[0], self.nhid)\n",
    "    cell_state = torch.zeros(self.n_lstm_layers, x.shape[0], self.nhid)\n",
    "\n",
    "    # move hidden state to device\n",
    "    if self.use_cuda:\n",
    "      hidden_state = hidden_state.to(device)\n",
    "      cell_state = cell_state.to(device)\n",
    "        \n",
    "    self.hidden = (hidden_state, cell_state)\n",
    "\n",
    "    # Forward Pass\n",
    "    x, h = self.lstm(x, self.hidden) # LSTM\n",
    "    x = self.dropout(x.contiguous().view(x.shape[0], -1)) # Flatten lstm out \n",
    "    x = self.fc1(x) # First Dense\n",
    "    return self.dnn(x) # Pass forward through fully connected DNN."
   ]
  },
  {
   "cell_type": "code",
   "execution_count": 83,
   "metadata": {
    "id": "7q5iZoDV6XKz"
   },
   "outputs": [],
   "source": [
    "nhid = 50 # Number of nodes in the hidden layer\n",
    "n_dnn_layers = 5 # Number of hidden fully connected layers\n",
    "nout = 1 # Prediction Window\n",
    "sequence_len = 5 # Training Window\n",
    "\n",
    "# Number of features\n",
    "ninp = 1\n",
    "\n",
    "# Initialize the model\n",
    "model = LSTMForecaster(ninp, nhid, nout, sequence_len, n_deep_layers=n_dnn_layers, use_cuda=False).to(device)"
   ]
  },
  {
   "cell_type": "code",
   "execution_count": 90,
   "metadata": {
    "id": "0ehbrreS-ibV"
   },
   "outputs": [],
   "source": [
    "# Set learning rate and number of epochs to train over\n",
    "lr = 0.03\n",
    "n_epochs = 200\n",
    "\n",
    "# Initialize the loss function and optimizer\n",
    "criterion = nn.MSELoss().to(device)\n",
    "optimizer = torch.optim.AdamW(model.parameters(), lr=lr)"
   ]
  },
  {
   "cell_type": "code",
   "execution_count": 88,
   "metadata": {
    "id": "RXhg-Q1BJSxC"
   },
   "outputs": [],
   "source": [
    "def plot_losses(tr, va):\n",
    "  import matplotlib.pyplot as plt\n",
    "  fig, ax = plt.subplots()\n",
    "  ax.plot(tr, label='train')\n",
    "  ax.plot(va, label='validation')\n",
    "  plt.legend()\n",
    "  plt.show()"
   ]
  },
  {
   "cell_type": "code",
   "execution_count": 142,
   "metadata": {
    "colab": {
     "base_uri": "https://localhost:8080/",
     "height": 1000
    },
    "id": "olMrmu2j67ZV",
    "outputId": "d11057fe-79e2-4b3a-cda3-0e37122c88c5"
   },
   "outputs": [
    {
     "name": "stdout",
     "output_type": "stream",
     "text": [
      "loss=  0 - train: 0.1963610319154603, valid: 0.6047903299331665\n",
      "loss=  1 - train: 0.21005599200725555, valid: 0.5399324893951416\n",
      "loss=  2 - train: 0.17111687255757196, valid: 0.6010462045669556\n",
      "loss=  3 - train: 0.14724377862044744, valid: 0.5848780274391174\n",
      "loss=  4 - train: 0.1401974665267127, valid: 0.4196299612522125\n",
      "loss=  5 - train: 0.20593124255537987, valid: 0.7152894735336304\n",
      "loss=  6 - train: 0.16949105901377542, valid: 1.0391463041305542\n",
      "loss=  7 - train: 0.14529244708163397, valid: 0.37045401334762573\n",
      "loss=  8 - train: 0.17145286181143352, valid: 0.842002809047699\n",
      "loss=  9 - train: 0.1652825160750321, valid: 0.5888212323188782\n",
      "loss=  10 - train: 0.17978888217891967, valid: 0.6803032159805298\n",
      "loss=  11 - train: 0.15583059989980289, valid: 0.5893700122833252\n",
      "loss=  12 - train: 0.11454363273722785, valid: 0.6785402297973633\n",
      "loss=  13 - train: 0.1609791394855295, valid: 0.7147183418273926\n",
      "loss=  14 - train: 0.15030464742864882, valid: 0.48033538460731506\n",
      "loss=  15 - train: 0.1626296117901802, valid: 0.6429084539413452\n",
      "loss=  16 - train: 0.12865920418075152, valid: 0.721552312374115\n",
      "loss=  17 - train: 0.14097463339567184, valid: 0.8674312829971313\n",
      "loss=  18 - train: 0.131680712636028, valid: 0.6989051103591919\n",
      "loss=  19 - train: 0.12684531563094684, valid: 0.5576977729797363\n",
      "loss=  20 - train: 0.14992319260324752, valid: 1.1296683549880981\n",
      "loss=  21 - train: 0.15999286196061543, valid: 0.6839239597320557\n",
      "loss=  22 - train: 0.1526775849717004, valid: 0.8675838112831116\n",
      "loss=  23 - train: 0.15472309929983957, valid: 0.7544680833816528\n",
      "loss=  24 - train: 0.15072418004274368, valid: 0.2744012176990509\n",
      "loss=  25 - train: 0.17303950233118875, valid: 0.4476531744003296\n",
      "loss=  26 - train: 0.13929352270705359, valid: 0.6243999004364014\n",
      "loss=  27 - train: 0.1719050950237683, valid: 0.9283081889152527\n",
      "loss=  28 - train: 0.18549450167587825, valid: 0.496154248714447\n",
      "loss=  29 - train: 0.12453632801771164, valid: 0.7539055347442627\n",
      "loss=  30 - train: 0.1499054016811507, valid: 1.064670443534851\n",
      "loss=  31 - train: 0.18300037724631174, valid: 0.7833415865898132\n",
      "loss=  32 - train: 0.1417983536209379, valid: 0.51386559009552\n",
      "loss=  33 - train: 0.18322046207530157, valid: 0.7913558483123779\n",
      "loss=  34 - train: 0.11804741621017456, valid: 0.49256348609924316\n",
      "loss=  35 - train: 0.1393176093697548, valid: 0.8410171866416931\n",
      "loss=  36 - train: 0.13834682532719203, valid: 1.067794919013977\n",
      "loss=  37 - train: 0.11440133942025048, valid: 0.912112295627594\n",
      "loss=  38 - train: 0.16726923840386526, valid: 0.47279906272888184\n",
      "loss=  39 - train: 0.14814233034849167, valid: 1.0701318979263306\n",
      "loss=  40 - train: 0.1784713151199477, valid: 0.9644277095794678\n",
      "loss=  41 - train: 0.1673766624714647, valid: 0.9484516382217407\n",
      "loss=  42 - train: 0.1628011896141938, valid: 0.30227938294410706\n",
      "loss=  43 - train: 0.15508832037448883, valid: 0.45451557636260986\n",
      "loss=  44 - train: 0.1466943004301616, valid: 0.862991988658905\n",
      "loss=  45 - train: 0.16807240886347635, valid: 0.4665291905403137\n",
      "loss=  46 - train: 0.13990791035549982, valid: 0.30691537261009216\n",
      "loss=  47 - train: 0.13121313388858521, valid: 0.8377237915992737\n",
      "loss=  48 - train: 0.15551275653498514, valid: 0.859804630279541\n",
      "loss=  49 - train: 0.12869764864444733, valid: 0.5249050855636597\n",
      "loss=  50 - train: 0.11506478914192744, valid: 0.8243409991264343\n",
      "loss=  51 - train: 0.14262054275189126, valid: 0.6839198470115662\n",
      "loss=  52 - train: 0.15481962050710404, valid: 1.1078503131866455\n",
      "loss=  53 - train: 0.14344512298703194, valid: 0.7693091630935669\n",
      "loss=  54 - train: 0.13376516369836672, valid: 0.49405813217163086\n",
      "loss=  55 - train: 0.14492524255599296, valid: 0.9690601229667664\n",
      "loss=  56 - train: 0.12545672804117203, valid: 0.15143011510372162\n",
      "loss=  57 - train: 0.17328033596277237, valid: 1.0707676410675049\n",
      "loss=  58 - train: 0.15420942647116526, valid: 1.0607168674468994\n",
      "loss=  59 - train: 0.1548412303839411, valid: 0.8952910900115967\n",
      "loss=  60 - train: 0.15085968800953456, valid: 0.7841232419013977\n",
      "loss=  61 - train: 0.12154971382447652, valid: 0.642292857170105\n",
      "loss=  62 - train: 0.11425376151289258, valid: 0.9389695525169373\n",
      "loss=  63 - train: 0.12446436285972595, valid: 0.3911353349685669\n",
      "loss=  64 - train: 0.14912837211574828, valid: 0.7442246079444885\n",
      "loss=  65 - train: 0.16342977434396744, valid: 0.6826500296592712\n",
      "loss=  66 - train: 0.12847964199525969, valid: 0.27547401189804077\n",
      "loss=  67 - train: 0.13036479321973665, valid: 0.39306607842445374\n",
      "loss=  68 - train: 0.1545951318527971, valid: 0.9276431202888489\n",
      "loss=  69 - train: 0.1599258498421737, valid: 0.23797403275966644\n",
      "loss=  70 - train: 0.14580499913011277, valid: 1.2493011951446533\n",
      "loss=  71 - train: 0.12354570041809763, valid: 0.8059521913528442\n",
      "loss=  72 - train: 0.16448196236576354, valid: 1.0968762636184692\n",
      "loss=  73 - train: 0.10380737802812032, valid: 1.3518056869506836\n",
      "loss=  74 - train: 0.14981835335493088, valid: 0.6975498199462891\n",
      "loss=  75 - train: 0.12802804234836782, valid: 0.9340739250183105\n",
      "loss=  76 - train: 0.16452579785670554, valid: 0.9772497415542603\n",
      "loss=  77 - train: 0.13276032305189542, valid: 0.8878058195114136\n",
      "loss=  78 - train: 0.13103321407522475, valid: 0.9214299917221069\n",
      "loss=  79 - train: 0.10694238011326108, valid: 0.5859180688858032\n",
      "loss=  80 - train: 0.13175297528505325, valid: 0.8010820150375366\n",
      "loss=  81 - train: 0.11950093933514186, valid: 0.5328385233879089\n",
      "loss=  82 - train: 0.12365347679172244, valid: 0.7875041365623474\n",
      "loss=  83 - train: 0.11283203746591296, valid: 0.8329306840896606\n",
      "loss=  84 - train: 0.16376936116388865, valid: 0.6918926239013672\n",
      "loss=  85 - train: 0.10664506788764681, valid: 1.132733702659607\n",
      "loss=  86 - train: 0.1384510818336691, valid: 0.6121317148208618\n",
      "loss=  87 - train: 0.10298237896391324, valid: 0.6215299367904663\n",
      "loss=  88 - train: 0.1470286590712411, valid: 0.49410057067871094\n",
      "loss=  89 - train: 0.11935531347990036, valid: 0.42798951268196106\n",
      "loss=  90 - train: 0.18286375382116862, valid: 1.0232564210891724\n",
      "loss=  91 - train: 0.1442618306194033, valid: 1.1671347618103027\n",
      "loss=  92 - train: 0.12581026128360204, valid: 1.5116784572601318\n",
      "loss=  93 - train: 0.10043368807860784, valid: 1.2561454772949219\n",
      "loss=  94 - train: 0.15629803336092404, valid: 1.290761947631836\n",
      "loss=  95 - train: 0.11322575275387083, valid: 0.593681275844574\n",
      "loss=  96 - train: 0.16031969338655472, valid: 0.9975981712341309\n",
      "loss=  97 - train: 0.12921902537345886, valid: 0.5635815858840942\n",
      "loss=  98 - train: 0.13936540058680943, valid: 0.9428762197494507\n",
      "loss=  99 - train: 0.10376232436725072, valid: 0.6504770517349243\n"
     ]
    },
    {
     "data": {
      "image/png": "[encoded data removed]",
      "text/plain": [
       "<Figure size 640x480 with 1 Axes>"
      ]
     },
     "metadata": {},
     "output_type": "display_data"
    }
   ],
   "source": [
    "# Lists to store training and validation losses\n",
    "t_losses, v_losses = [], []\n",
    "# Loop over epochs\n",
    "for epoch in range(n_epochs):\n",
    "  train_loss, valid_loss = 0.0, 0.0\n",
    "\n",
    "  # train step\n",
    "  model.train()\n",
    "  # Loop over train dataset\n",
    "  for x, y in trainloader:\n",
    "    # clear everything in optimizer\n",
    "    optimizer.zero_grad()\n",
    "    # move inputs to device\n",
    "    x = x.to(device)\n",
    "    y  = y.squeeze().to(device)\n",
    "    # Forward Pass\n",
    "    preds = model(x).squeeze()\n",
    "    # calculate the loss\n",
    "    loss = criterion(preds, y) \n",
    "    \n",
    "    train_loss += loss.item()\n",
    "\n",
    "    # backward propgation\n",
    "    loss.backward()\n",
    "    # change weight and bias\n",
    "    optimizer.step()\n",
    "  epoch_loss = train_loss / len(trainloader)\n",
    "  t_losses.append(epoch_loss)\n",
    "  \n",
    "  # validation step\n",
    "  model.eval()\n",
    "\n",
    "\n",
    "  # Loop over validation dataset\n",
    "  for x, y in testloader:\n",
    "    with torch.no_grad():\n",
    "      x, y = x.to(device), y.squeeze().to(device)\n",
    "      preds = model(x).squeeze()\n",
    "      error = criterion(preds, y)\n",
    "    valid_loss += error.item()\n",
    "  valid_loss = valid_loss / len(testloader)\n",
    "  v_losses.append(valid_loss)\n",
    "      \n",
    "  print(f'loss=  {epoch} - train: {epoch_loss}, valid: {valid_loss}')\n",
    "plot_losses(t_losses, v_losses)"
   ]
  },
  {
   "cell_type": "code",
   "execution_count": 145,
   "metadata": {
    "id": "UXjC4RKqJ9CA"
   },
   "outputs": [],
   "source": [
    "def make_predictions_from_dataloader(model, dataloader):\n",
    "  model.eval()\n",
    "  predictions, actuals = [], []\n",
    "  for x, y in dataloader:\n",
    "    with torch.no_grad():\n",
    "      p = model(x)\n",
    "      #print(x.shape)\n",
    "      predictions.append(p)\n",
    "      actuals.append(y.squeeze())\n",
    "  predictions = torch.cat(predictions).numpy()\n",
    "  actuals = torch.cat(actuals).numpy()\n",
    "  return predictions.squeeze(), actuals"
   ]
  },
  {
   "cell_type": "code",
   "execution_count": 146,
   "metadata": {
    "colab": {
     "base_uri": "https://localhost:8080/"
    },
    "id": "7p59esbjKABA",
    "outputId": "0601a272-c304-49d7-985b-748f318acbb7"
   },
   "outputs": [
    {
     "data": {
      "text/plain": [
       "((144,), (144,))"
      ]
     },
     "execution_count": 146,
     "metadata": {},
     "output_type": "execute_result"
    }
   ],
   "source": [
    "full_loader = DataLoader(dataset, batch_size=BATCH_SIZE, shuffle=True, drop_last=True)\n",
    "P, Y = make_predictions_from_dataloader(model, full_loader)\n",
    "P.shape, Y.shape"
   ]
  },
  {
   "cell_type": "code",
   "execution_count": 147,
   "metadata": {
    "colab": {
     "base_uri": "https://localhost:8080/",
     "height": 837
    },
    "id": "GUi6ZTYgKPBT",
    "outputId": "7f3d6373-e7a7-47cc-ff02-5c52b539dcf3"
   },
   "outputs": [
    {
     "data": {
      "text/html": [
       "<html>\n",
       "<head><meta charset=\"utf-8\" /></head>\n",
       "<body>\n",
       "    <div>            <script src=\"https://cdnjs.cloudflare.com/ajax/libs/mathjax/2.7.5/MathJax.js?config=TeX-AMS-MML_SVG\"></script><script type=\"text/javascript\">if (window.MathJax && window.MathJax.Hub && window.MathJax.Hub.Config) {window.MathJax.Hub.Config({SVG: {font: \"STIX-Web\"}});}</script>                <script type=\"text/javascript\">window.PlotlyConfig = {MathJaxConfig: 'local'};</script>\n",
       "        <script src=\"https://cdn.plot.ly/plotly-2.18.2.min.js\"></script>                <div id=\"b5517e59-5797-4b07-ab63-2e0353df712a\" class=\"plotly-graph-div\" style=\"height:800px; width:2400px;\"></div>            <script type=\"text/javascript\">                                    window.PLOTLYENV=window.PLOTLYENV || {};                                    if (document.getElementById(\"b5517e59-5797-4b07-ab63-2e0353df712a\")) {                    Plotly.newPlot(                        \"b5517e59-5797-4b07-ab63-2e0353df712a\",                        [{\"hovertemplate\":\"variable=predictions<br>index=%{x}<br>value=%{y}<extra></extra>\",\"legendgroup\":\"predictions\",\"line\":{\"color\":\"#636efa\",\"dash\":\"solid\"},\"marker\":{\"symbol\":\"circle\"},\"mode\":\"lines\",\"name\":\"predictions\",\"orientation\":\"v\",\"showlegend\":true,\"x\":[0,1,2,3,4,5,6,7,8,9,10,11,12,13,14,15,16,17,18,19,20,21,22,23,24,25,26,27,28,29,30,31,32,33,34,35,36,37,38,39,40,41,42,43,44,45,46,47,48,49,50,51,52,53,54,55,56,57,58,59,60,61,62,63,64,65,66,67,68,69,70,71,72,73,74,75,76,77,78,79,80,81,82,83,84,85,86,87,88,89,90,91,92,93,94,95,96,97,98,99,100,101,102,103,104,105,106,107,108,109,110,111,112,113,114,115,116,117,118,119,120,121,122,123,124,125,126,127,128,129,130,131,132,133,134,135,136,137,138,139,140,141,142,143],\"xaxis\":\"x\",\"y\":[1.850385069847107,-0.23058342933654785,-0.5424979329109192,-0.5277460217475891,-0.40373218059539795,-0.7821197509765625,-0.09106751531362534,0.012756351381540298,1.4615706205368042,-0.37380266189575195,-0.30699622631073,1.1517459154129028,0.6269674301147461,-0.07241302728652954,0.8351579904556274,0.525077223777771,0.426424503326416,-0.6303555965423584,0.03397175297141075,-0.8383347392082214,-0.5019984841346741,-0.24061521887779236,3.070303201675415,0.36481475830078125,0.06089649349451065,-0.34514978528022766,0.2487281858921051,-0.008054662495851517,3.030308723449707,0.426699161529541,-0.5742387771606445,0.5228724479675293,-1.01335608959198,-0.23331958055496216,0.15597617626190186,0.37305527925491333,1.342419147491455,1.0097051858901978,-0.7607592940330505,-0.5729871392250061,-0.013410782441496849,0.4792708158493042,-0.008944608271121979,0.6141219139099121,-0.8035140037536621,0.639857292175293,-0.9471245408058167,0.3971174955368042,0.5611346364021301,0.09165723621845245,1.4541629552841187,0.5919061899185181,-0.06952187418937683,0.3679693937301636,-0.283049076795578,-0.45568278431892395,-0.6962509751319885,4.295149803161621,2.4447147846221924,-0.2977079153060913,0.5948878526687622,-0.0886620506644249,-0.7633041143417358,-0.3896086812019348,-0.35923153162002563,0.9399682879447937,-0.787752628326416,-0.29991257190704346,-0.8805134296417236,-0.2725929021835327,0.4571782648563385,0.35223186016082764,-0.2373863160610199,0.029589056968688965,-0.2174975574016571,0.17016634345054626,0.07804834842681885,-0.1896359622478485,-0.8098701238632202,-0.23334181308746338,0.6121010184288025,-0.9709758758544922,-0.32087886333465576,-0.15840837359428406,2.651003122329712,-1.1995632648468018,-0.41907498240470886,-0.1645050346851349,-0.04594510793685913,0.34099313616752625,1.3657951354980469,0.020698972046375275,-1.1286420822143555,-0.7288522720336914,0.271833598613739,1.2165485620498657,-0.7239840030670166,0.9637552499771118,-0.7759923934936523,-0.8140406012535095,-0.3274103105068207,0.4811192750930786,-0.32522934675216675,0.15101143717765808,-1.087929368019104,0.11812550574541092,0.07811620831489563,2.4953837394714355,0.21105307340621948,-0.24446898698806763,-0.414837121963501,-0.946212112903595,-0.12964633107185364,-0.3852851688861847,-0.3837074637413025,1.3716288805007935,-1.4552639722824097,-0.6756570339202881,2.611934185028076,-0.36868077516555786,0.20947158336639404,1.7987827062606812,0.7730540037155151,1.3338621854782104,-0.5857841968536377,-0.01999102346599102,-0.9817797541618347,-0.22310689091682434,2.996938943862915,-0.42582935094833374,0.6929085850715637,0.16235244274139404,1.5389292240142822,-0.8303724527359009,0.6442834138870239,-1.0828577280044556,-0.054761193692684174,1.3141305446624756,1.4872121810913086,-0.2899950444698334,-0.31388306617736816,-1.1932780742645264,-0.33938753604888916,-0.14681777358055115],\"yaxis\":\"y\",\"type\":\"scatter\"},{\"hovertemplate\":\"variable=actuals<br>index=%{x}<br>value=%{y}<extra></extra>\",\"legendgroup\":\"actuals\",\"line\":{\"color\":\"#EF553B\",\"dash\":\"solid\"},\"marker\":{\"symbol\":\"circle\"},\"mode\":\"lines\",\"name\":\"actuals\",\"orientation\":\"v\",\"showlegend\":true,\"x\":[0,1,2,3,4,5,6,7,8,9,10,11,12,13,14,15,16,17,18,19,20,21,22,23,24,25,26,27,28,29,30,31,32,33,34,35,36,37,38,39,40,41,42,43,44,45,46,47,48,49,50,51,52,53,54,55,56,57,58,59,60,61,62,63,64,65,66,67,68,69,70,71,72,73,74,75,76,77,78,79,80,81,82,83,84,85,86,87,88,89,90,91,92,93,94,95,96,97,98,99,100,101,102,103,104,105,106,107,108,109,110,111,112,113,114,115,116,117,118,119,120,121,122,123,124,125,126,127,128,129,130,131,132,133,134,135,136,137,138,139,140,141,142,143],\"xaxis\":\"x\",\"y\":[1.4976733922958374,0.543800950050354,-0.5661367177963257,-0.6234604120254517,-0.24329730868339539,-0.9584259986877441,-0.07479087263345718,0.0735577791929245,1.2394018173217773,-0.14046113193035126,-0.5073956847190857,0.8312067985534668,0.4789181053638458,-0.05305827036499977,1.0135717391967773,0.4820677638053894,0.2587573528289795,-0.7055088877677917,-0.5609397888183594,-0.8672435283660889,-0.5146399140357971,-0.33621206879615784,3.861172914505005,0.39088529348373413,0.2524580657482147,-0.5507034063339233,0.21072515845298767,2.1408324241638184,2.9365923404693604,0.5727777481079102,-0.38361433148384094,0.4724613130092621,-1.2485090494155884,-0.48739540576934814,0.07922714948654175,0.4285236597061157,-0.5705462694168091,0.22237887978553772,-1.4239447116851807,-0.6540120244026184,-0.06801912188529968,0.17182694375514984,-0.24802178144454956,0.8192381262779236,-0.9321264028549194,0.749788224697113,-1.1475626230239868,-0.0066008903086185455,0.3587588369846344,0.4340355396270752,1.5912179946899414,0.2798600494861603,-0.11416153609752655,0.2510407269001007,-0.4576311707496643,-0.8913384079933167,-0.2875499427318573,3.901803493499756,2.198943614959717,-0.4403080940246582,0.685377836227417,-0.11242922395467758,-0.9281893372535706,-0.7499189972877502,-0.4787338674068451,1.0061700344085693,-1.2941789627075195,-0.2859750986099243,-1.0124425888061523,-0.26691970229148865,0.07969959825277328,0.6364007592201233,-0.08376738429069519,0.04836055263876915,-0.13762645423412323,0.11056619882583618,-0.2592030465602875,-0.40156736969947815,-0.9307090640068054,-0.5599948763847351,0.4557681679725647,-0.7710216641426086,-0.3491256535053253,-0.2529037594795227,1.1225496530532837,-1.1458303928375244,-0.4966868758201599,-1.2196897268295288,0.06804588437080383,0.18915003538131714,1.397041916847229,-0.03494776785373688,-1.532922625541687,-0.404087096452713,-0.3957405090332031,1.4173572063446045,-1.003466010093689,-0.8275579214096069,-0.8535425662994385,-0.9209451079368591,-0.42408737540245056,0.4767133593559265,-0.45180433988571167,-0.0023488588631153107,-1.183941125869751,0.23544993996620178,0.049147967249155045,2.504774808883667,-0.3341647982597351,-0.3440861999988556,-0.3558973968029022,-1.2970136404037476,0.12127501517534256,-0.404087096452713,-0.5195218920707703,1.9305931329727173,-1.9804884195327759,-0.6026726961135864,2.4854044914245605,-0.6124366521835327,0.5934079885482788,1.8038195371627808,0.6849054098129272,1.6420849561691284,-0.7881872653961182,-0.1596740186214447,-1.5148122310638428,-0.5377898216247559,2.0024051666259766,-1.1423656940460205,0.7754579186439514,0.2866317927837372,0.37797173857688904,-0.8611017465591431,0.4844299852848053,-1.0549628734588623,-0.09227144718170166,1.9926413297653198,1.5795643329620361,-0.2094385325908661,-0.5015688538551331,-1.327565312385559,-0.021876707673072815,-0.2829829454421997],\"yaxis\":\"y\",\"type\":\"scatter\"}],                        {\"template\":{\"data\":{\"histogram2dcontour\":[{\"type\":\"histogram2dcontour\",\"colorbar\":{\"outlinewidth\":0,\"ticks\":\"\"},\"colorscale\":[[0.0,\"#0d0887\"],[0.1111111111111111,\"#46039f\"],[0.2222222222222222,\"#7201a8\"],[0.3333333333333333,\"#9c179e\"],[0.4444444444444444,\"#bd3786\"],[0.5555555555555556,\"#d8576b\"],[0.6666666666666666,\"#ed7953\"],[0.7777777777777778,\"#fb9f3a\"],[0.8888888888888888,\"#fdca26\"],[1.0,\"#f0f921\"]]}],\"choropleth\":[{\"type\":\"choropleth\",\"colorbar\":{\"outlinewidth\":0,\"ticks\":\"\"}}],\"histogram2d\":[{\"type\":\"histogram2d\",\"colorbar\":{\"outlinewidth\":0,\"ticks\":\"\"},\"colorscale\":[[0.0,\"#0d0887\"],[0.1111111111111111,\"#46039f\"],[0.2222222222222222,\"#7201a8\"],[0.3333333333333333,\"#9c179e\"],[0.4444444444444444,\"#bd3786\"],[0.5555555555555556,\"#d8576b\"],[0.6666666666666666,\"#ed7953\"],[0.7777777777777778,\"#fb9f3a\"],[0.8888888888888888,\"#fdca26\"],[1.0,\"#f0f921\"]]}],\"heatmap\":[{\"type\":\"heatmap\",\"colorbar\":{\"outlinewidth\":0,\"ticks\":\"\"},\"colorscale\":[[0.0,\"#0d0887\"],[0.1111111111111111,\"#46039f\"],[0.2222222222222222,\"#7201a8\"],[0.3333333333333333,\"#9c179e\"],[0.4444444444444444,\"#bd3786\"],[0.5555555555555556,\"#d8576b\"],[0.6666666666666666,\"#ed7953\"],[0.7777777777777778,\"#fb9f3a\"],[0.8888888888888888,\"#fdca26\"],[1.0,\"#f0f921\"]]}],\"heatmapgl\":[{\"type\":\"heatmapgl\",\"colorbar\":{\"outlinewidth\":0,\"ticks\":\"\"},\"colorscale\":[[0.0,\"#0d0887\"],[0.1111111111111111,\"#46039f\"],[0.2222222222222222,\"#7201a8\"],[0.3333333333333333,\"#9c179e\"],[0.4444444444444444,\"#bd3786\"],[0.5555555555555556,\"#d8576b\"],[0.6666666666666666,\"#ed7953\"],[0.7777777777777778,\"#fb9f3a\"],[0.8888888888888888,\"#fdca26\"],[1.0,\"#f0f921\"]]}],\"contourcarpet\":[{\"type\":\"contourcarpet\",\"colorbar\":{\"outlinewidth\":0,\"ticks\":\"\"}}],\"contour\":[{\"type\":\"contour\",\"colorbar\":{\"outlinewidth\":0,\"ticks\":\"\"},\"colorscale\":[[0.0,\"#0d0887\"],[0.1111111111111111,\"#46039f\"],[0.2222222222222222,\"#7201a8\"],[0.3333333333333333,\"#9c179e\"],[0.4444444444444444,\"#bd3786\"],[0.5555555555555556,\"#d8576b\"],[0.6666666666666666,\"#ed7953\"],[0.7777777777777778,\"#fb9f3a\"],[0.8888888888888888,\"#fdca26\"],[1.0,\"#f0f921\"]]}],\"surface\":[{\"type\":\"surface\",\"colorbar\":{\"outlinewidth\":0,\"ticks\":\"\"},\"colorscale\":[[0.0,\"#0d0887\"],[0.1111111111111111,\"#46039f\"],[0.2222222222222222,\"#7201a8\"],[0.3333333333333333,\"#9c179e\"],[0.4444444444444444,\"#bd3786\"],[0.5555555555555556,\"#d8576b\"],[0.6666666666666666,\"#ed7953\"],[0.7777777777777778,\"#fb9f3a\"],[0.8888888888888888,\"#fdca26\"],[1.0,\"#f0f921\"]]}],\"mesh3d\":[{\"type\":\"mesh3d\",\"colorbar\":{\"outlinewidth\":0,\"ticks\":\"\"}}],\"scatter\":[{\"fillpattern\":{\"fillmode\":\"overlay\",\"size\":10,\"solidity\":0.2},\"type\":\"scatter\"}],\"parcoords\":[{\"type\":\"parcoords\",\"line\":{\"colorbar\":{\"outlinewidth\":0,\"ticks\":\"\"}}}],\"scatterpolargl\":[{\"type\":\"scatterpolargl\",\"marker\":{\"colorbar\":{\"outlinewidth\":0,\"ticks\":\"\"}}}],\"bar\":[{\"error_x\":{\"color\":\"#2a3f5f\"},\"error_y\":{\"color\":\"#2a3f5f\"},\"marker\":{\"line\":{\"color\":\"#E5ECF6\",\"width\":0.5},\"pattern\":{\"fillmode\":\"overlay\",\"size\":10,\"solidity\":0.2}},\"type\":\"bar\"}],\"scattergeo\":[{\"type\":\"scattergeo\",\"marker\":{\"colorbar\":{\"outlinewidth\":0,\"ticks\":\"\"}}}],\"scatterpolar\":[{\"type\":\"scatterpolar\",\"marker\":{\"colorbar\":{\"outlinewidth\":0,\"ticks\":\"\"}}}],\"histogram\":[{\"marker\":{\"pattern\":{\"fillmode\":\"overlay\",\"size\":10,\"solidity\":0.2}},\"type\":\"histogram\"}],\"scattergl\":[{\"type\":\"scattergl\",\"marker\":{\"colorbar\":{\"outlinewidth\":0,\"ticks\":\"\"}}}],\"scatter3d\":[{\"type\":\"scatter3d\",\"line\":{\"colorbar\":{\"outlinewidth\":0,\"ticks\":\"\"}},\"marker\":{\"colorbar\":{\"outlinewidth\":0,\"ticks\":\"\"}}}],\"scattermapbox\":[{\"type\":\"scattermapbox\",\"marker\":{\"colorbar\":{\"outlinewidth\":0,\"ticks\":\"\"}}}],\"scatterternary\":[{\"type\":\"scatterternary\",\"marker\":{\"colorbar\":{\"outlinewidth\":0,\"ticks\":\"\"}}}],\"scattercarpet\":[{\"type\":\"scattercarpet\",\"marker\":{\"colorbar\":{\"outlinewidth\":0,\"ticks\":\"\"}}}],\"carpet\":[{\"aaxis\":{\"endlinecolor\":\"#2a3f5f\",\"gridcolor\":\"white\",\"linecolor\":\"white\",\"minorgridcolor\":\"white\",\"startlinecolor\":\"#2a3f5f\"},\"baxis\":{\"endlinecolor\":\"#2a3f5f\",\"gridcolor\":\"white\",\"linecolor\":\"white\",\"minorgridcolor\":\"white\",\"startlinecolor\":\"#2a3f5f\"},\"type\":\"carpet\"}],\"table\":[{\"cells\":{\"fill\":{\"color\":\"#EBF0F8\"},\"line\":{\"color\":\"white\"}},\"header\":{\"fill\":{\"color\":\"#C8D4E3\"},\"line\":{\"color\":\"white\"}},\"type\":\"table\"}],\"barpolar\":[{\"marker\":{\"line\":{\"color\":\"#E5ECF6\",\"width\":0.5},\"pattern\":{\"fillmode\":\"overlay\",\"size\":10,\"solidity\":0.2}},\"type\":\"barpolar\"}],\"pie\":[{\"automargin\":true,\"type\":\"pie\"}]},\"layout\":{\"autotypenumbers\":\"strict\",\"colorway\":[\"#636efa\",\"#EF553B\",\"#00cc96\",\"#ab63fa\",\"#FFA15A\",\"#19d3f3\",\"#FF6692\",\"#B6E880\",\"#FF97FF\",\"#FECB52\"],\"font\":{\"color\":\"#2a3f5f\"},\"hovermode\":\"closest\",\"hoverlabel\":{\"align\":\"left\"},\"paper_bgcolor\":\"white\",\"plot_bgcolor\":\"#E5ECF6\",\"polar\":{\"bgcolor\":\"#E5ECF6\",\"angularaxis\":{\"gridcolor\":\"white\",\"linecolor\":\"white\",\"ticks\":\"\"},\"radialaxis\":{\"gridcolor\":\"white\",\"linecolor\":\"white\",\"ticks\":\"\"}},\"ternary\":{\"bgcolor\":\"#E5ECF6\",\"aaxis\":{\"gridcolor\":\"white\",\"linecolor\":\"white\",\"ticks\":\"\"},\"baxis\":{\"gridcolor\":\"white\",\"linecolor\":\"white\",\"ticks\":\"\"},\"caxis\":{\"gridcolor\":\"white\",\"linecolor\":\"white\",\"ticks\":\"\"}},\"coloraxis\":{\"colorbar\":{\"outlinewidth\":0,\"ticks\":\"\"}},\"colorscale\":{\"sequential\":[[0.0,\"#0d0887\"],[0.1111111111111111,\"#46039f\"],[0.2222222222222222,\"#7201a8\"],[0.3333333333333333,\"#9c179e\"],[0.4444444444444444,\"#bd3786\"],[0.5555555555555556,\"#d8576b\"],[0.6666666666666666,\"#ed7953\"],[0.7777777777777778,\"#fb9f3a\"],[0.8888888888888888,\"#fdca26\"],[1.0,\"#f0f921\"]],\"sequentialminus\":[[0.0,\"#0d0887\"],[0.1111111111111111,\"#46039f\"],[0.2222222222222222,\"#7201a8\"],[0.3333333333333333,\"#9c179e\"],[0.4444444444444444,\"#bd3786\"],[0.5555555555555556,\"#d8576b\"],[0.6666666666666666,\"#ed7953\"],[0.7777777777777778,\"#fb9f3a\"],[0.8888888888888888,\"#fdca26\"],[1.0,\"#f0f921\"]],\"diverging\":[[0,\"#8e0152\"],[0.1,\"#c51b7d\"],[0.2,\"#de77ae\"],[0.3,\"#f1b6da\"],[0.4,\"#fde0ef\"],[0.5,\"#f7f7f7\"],[0.6,\"#e6f5d0\"],[0.7,\"#b8e186\"],[0.8,\"#7fbc41\"],[0.9,\"#4d9221\"],[1,\"#276419\"]]},\"xaxis\":{\"gridcolor\":\"white\",\"linecolor\":\"white\",\"ticks\":\"\",\"title\":{\"standoff\":15},\"zerolinecolor\":\"white\",\"automargin\":true,\"zerolinewidth\":2},\"yaxis\":{\"gridcolor\":\"white\",\"linecolor\":\"white\",\"ticks\":\"\",\"title\":{\"standoff\":15},\"zerolinecolor\":\"white\",\"automargin\":true,\"zerolinewidth\":2},\"scene\":{\"xaxis\":{\"backgroundcolor\":\"#E5ECF6\",\"gridcolor\":\"white\",\"linecolor\":\"white\",\"showbackground\":true,\"ticks\":\"\",\"zerolinecolor\":\"white\",\"gridwidth\":2},\"yaxis\":{\"backgroundcolor\":\"#E5ECF6\",\"gridcolor\":\"white\",\"linecolor\":\"white\",\"showbackground\":true,\"ticks\":\"\",\"zerolinecolor\":\"white\",\"gridwidth\":2},\"zaxis\":{\"backgroundcolor\":\"#E5ECF6\",\"gridcolor\":\"white\",\"linecolor\":\"white\",\"showbackground\":true,\"ticks\":\"\",\"zerolinecolor\":\"white\",\"gridwidth\":2}},\"shapedefaults\":{\"line\":{\"color\":\"#2a3f5f\"}},\"annotationdefaults\":{\"arrowcolor\":\"#2a3f5f\",\"arrowhead\":0,\"arrowwidth\":1},\"geo\":{\"bgcolor\":\"white\",\"landcolor\":\"#E5ECF6\",\"subunitcolor\":\"white\",\"showland\":true,\"showlakes\":true,\"lakecolor\":\"white\"},\"title\":{\"x\":0.05},\"mapbox\":{\"style\":\"light\"}}},\"xaxis\":{\"anchor\":\"y\",\"domain\":[0.0,1.0],\"title\":{\"text\":\"index\"}},\"yaxis\":{\"anchor\":\"x\",\"domain\":[0.0,1.0],\"title\":{\"text\":\"value\"}},\"legend\":{\"title\":{\"text\":\"variable\"},\"tracegroupgap\":0},\"margin\":{\"t\":60},\"autosize\":false,\"width\":2400,\"height\":800},                        {\"responsive\": true}                    ).then(function(){\n",
       "                            \n",
       "var gd = document.getElementById('b5517e59-5797-4b07-ab63-2e0353df712a');\n",
       "var x = new MutationObserver(function (mutations, observer) {{\n",
       "        var display = window.getComputedStyle(gd).display;\n",
       "        if (!display || display === 'none') {{\n",
       "            console.log([gd, 'removed!']);\n",
       "            Plotly.purge(gd);\n",
       "            observer.disconnect();\n",
       "        }}\n",
       "}});\n",
       "\n",
       "// Listen for the removal of the full notebook cells\n",
       "var notebookContainer = gd.closest('#notebook-container');\n",
       "if (notebookContainer) {{\n",
       "    x.observe(notebookContainer, {childList: true});\n",
       "}}\n",
       "\n",
       "// Listen for the clearing of the current output cell\n",
       "var outputEl = gd.closest('.output');\n",
       "if (outputEl) {{\n",
       "    x.observe(outputEl, {childList: true});\n",
       "}}\n",
       "\n",
       "                        })                };                            </script>        </div>\n",
       "</body>\n",
       "</html>"
      ]
     },
     "metadata": {},
     "output_type": "display_data"
    }
   ],
   "source": [
    "predictdf = pd.DataFrame([P, Y], index=['predictions', 'actuals']).T\n",
    "\n",
    "fig = px.line(predictdf)\n",
    "fig.update_layout(\n",
    "    autosize=False,\n",
    "    width=2400,\n",
    "    height=800,)\n",
    "fig.show()"
   ]
  }
 ],
 "metadata": {
  "colab": {
   "provenance": []
  },
  "kernelspec": {
   "display_name": "Python 3 (ipykernel)",
   "language": "python",
   "name": "python3"
  },
  "language_info": {
   "codemirror_mode": {
    "name": "ipython",
    "version": 3
   },
   "file_extension": ".py",
   "mimetype": "text/x-python",
   "name": "python",
   "nbconvert_exporter": "python",
   "pygments_lexer": "ipython3",
   "version": "3.10.9"
  }
 },
 "nbformat": 4,
 "nbformat_minor": 1
}
