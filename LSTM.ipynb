{
 "cells": [
  {
   "cell_type": "code",
   "execution_count": null,
   "id": "e96576e7",
   "metadata": {},
   "outputs": [],
   "source": [
    "import pandas as pd\n",
    "import numpy as np\n",
    "import matplotlib.pyplot as plt"
   ]
  },
  {
   "cell_type": "code",
   "execution_count": null,
   "id": "a3468275",
   "metadata": {},
   "outputs": [],
   "source": [
    "# Load and preprocess data\n",
    "df = pd.read_csv('TimeSeries.csv')"
   ]
  },
  {
   "cell_type": "code",
   "execution_count": null,
   "id": "a0fb0e64",
   "metadata": {},
   "outputs": [],
   "source": [
    "df"
   ]
  },
  {
   "cell_type": "code",
   "execution_count": null,
   "id": "193155c7",
   "metadata": {},
   "outputs": [],
   "source": [
    "df['Date'] = pd.to_datetime(df[['Year', 'Month']].assign(day=1))"
   ]
  },
  {
   "cell_type": "code",
   "execution_count": null,
   "id": "b9e86dfe",
   "metadata": {},
   "outputs": [],
   "source": [
    "df.drop(['Year','Month'],axis=1,inplace=True)"
   ]
  },
  {
   "cell_type": "code",
   "execution_count": null,
   "id": "26ff9ccc",
   "metadata": {},
   "outputs": [],
   "source": [
    "df.set_index('Date', inplace=True)\n",
    "# remove the space before column name\n",
    "df.rename(columns = {' Sales':'Sales'}, inplace = True)\n",
    "df['Sales'] = df['Sales'].str.replace(',', '').astype(int) # Remove commas and convert to int"
   ]
  },
  {
   "cell_type": "code",
   "execution_count": null,
   "id": "bdc05ade",
   "metadata": {},
   "outputs": [],
   "source": [
    "df"
   ]
  },
  {
   "cell_type": "code",
   "execution_count": null,
   "id": "4e58d556",
   "metadata": {},
   "outputs": [],
   "source": [
    "df.plot()"
   ]
  },
  {
   "cell_type": "code",
   "execution_count": null,
   "id": "477a03b7",
   "metadata": {},
   "outputs": [],
   "source": [
    "\n",
    "\n",
    "from statsmodels.tsa.seasonal import seasonal_decompose"
   ]
  },
  {
   "cell_type": "code",
   "execution_count": null,
   "id": "51ec1f02",
   "metadata": {},
   "outputs": [],
   "source": [
    "results = seasonal_decompose(df['Sales'])\n",
    "results.plot();"
   ]
  },
  {
   "cell_type": "code",
   "execution_count": null,
   "id": "3b207e04",
   "metadata": {},
   "outputs": [],
   "source": [
    "len(df)"
   ]
  },
  {
   "cell_type": "code",
   "execution_count": null,
   "id": "57306695",
   "metadata": {},
   "outputs": [],
   "source": [
    "train = df.iloc[:141]\n",
    "test = df.iloc[141:]"
   ]
  },
  {
   "cell_type": "code",
   "execution_count": null,
   "id": "bc43627b",
   "metadata": {},
   "outputs": [],
   "source": [
    "from sklearn.preprocessing import MinMaxScaler\n",
    "scaler = MinMaxScaler()\n"
   ]
  },
  {
   "cell_type": "code",
   "execution_count": null,
   "id": "0e9b67b5",
   "metadata": {},
   "outputs": [],
   "source": [
    "df.head(),df.tail()"
   ]
  },
  {
   "cell_type": "code",
   "execution_count": null,
   "id": "81193cc3",
   "metadata": {},
   "outputs": [],
   "source": [
    "scaler.fit(train)\n",
    "scaled_train = scaler.transform(train)\n",
    "scaled_test = scaler.transform(test)"
   ]
  },
  {
   "cell_type": "code",
   "execution_count": null,
   "id": "f8b1a44d",
   "metadata": {},
   "outputs": [],
   "source": [
    "scaled_train[:10]"
   ]
  },
  {
   "cell_type": "code",
   "execution_count": null,
   "id": "c076d6b9",
   "metadata": {},
   "outputs": [],
   "source": [
    "\n",
    "from keras.preprocessing.sequence import TimeseriesGenerator"
   ]
  },
  {
   "cell_type": "code",
   "execution_count": null,
   "id": "280f11e8",
   "metadata": {},
   "outputs": [],
   "source": []
  }
 ],
 "metadata": {
  "kernelspec": {
   "display_name": "venv",
   "language": "python",
   "name": "venv"
  },
  "language_info": {
   "codemirror_mode": {
    "name": "ipython",
    "version": 3
   },
   "file_extension": ".py",
   "mimetype": "text/x-python",
   "name": "python",
   "nbconvert_exporter": "python",
   "pygments_lexer": "ipython3",
   "version": "3.10.9"
  }
 },
 "nbformat": 4,
 "nbformat_minor": 5
}
