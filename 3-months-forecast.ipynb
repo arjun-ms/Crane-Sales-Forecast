{
 "cells": [
  {
   "cell_type": "code",
   "execution_count": null,
   "id": "a89ab24d",
   "metadata": {},
   "outputs": [],
   "source": [
    "import pandas as pd\n",
    "import numpy as np\n",
    "from sklearn.ensemble import RandomForestRegressor\n",
    "from sklearn.metrics import mean_absolute_error, mean_squared_error, r2_score\n",
    "import matplotlib.pyplot as plt\n",
    "\n",
    "\n",
    "\n",
    "\n"
   ]
  },
  {
   "cell_type": "code",
   "execution_count": null,
   "id": "34853d9d",
   "metadata": {},
   "outputs": [],
   "source": [
    "# Load and preprocess data\n",
    "df = pd.read_csv('TimeSeries.csv')"
   ]
  },
  {
   "cell_type": "code",
   "execution_count": null,
   "id": "25bc3bd9",
   "metadata": {},
   "outputs": [],
   "source": [
    "df['Date'] = pd.to_datetime(df[['Year', 'Month']].assign(day=1))"
   ]
  },
  {
   "cell_type": "code",
   "execution_count": null,
   "id": "0a1e91f9",
   "metadata": {},
   "outputs": [],
   "source": [
    "df.drop(['Year','Month'],axis=1,inplace=True)"
   ]
  },
  {
   "cell_type": "code",
   "execution_count": null,
   "id": "f936dc46",
   "metadata": {},
   "outputs": [],
   "source": [
    "df.set_index('Date', inplace=True)\n",
    "# remove the space before column name\n",
    "df.rename(columns = {' Sales':'Sales'}, inplace = True)\n",
    "df['Sales'] = df['Sales'].str.replace(',', '').astype(int) # Remove commas and convert to int"
   ]
  },
  {
   "cell_type": "code",
   "execution_count": null,
   "id": "8e56f417",
   "metadata": {},
   "outputs": [],
   "source": [
    "# Split the data into training and testing datasets\n",
    "train = df.iloc[:-3]\n",
    "test = df.iloc[-3:]"
   ]
  },
  {
   "cell_type": "code",
   "execution_count": null,
   "id": "6351a69c",
   "metadata": {},
   "outputs": [],
   "source": [
    "# Extract the features and target variables from the training and testing datasets\n",
    "X_train = train.index.month.values.reshape(-1, 1)\n",
    "y_train = train['Sales']\n",
    "X_test = test.index.month.values.reshape(-1, 1)\n",
    "y_test = test['Sales']\n",
    "\n"
   ]
  },
  {
   "cell_type": "code",
   "execution_count": null,
   "id": "55e8f407",
   "metadata": {},
   "outputs": [],
   "source": [
    "# Create a Random Forest regressor object with hyperparameters of your choice\n",
    "rf = RandomForestRegressor(n_estimators=100, random_state=42)\n",
    "\n",
    "# Fit the Random Forest regressor to the training data\n",
    "rf.fit(X_train, y_train)"
   ]
  },
  {
   "cell_type": "code",
   "execution_count": null,
   "id": "ff3c4faf",
   "metadata": {},
   "outputs": [],
   "source": [
    "# Predict the sales values for the testing data using the fitted Random Forest model\n",
    "y_pred = rf.predict(X_test)"
   ]
  },
  {
   "cell_type": "code",
   "execution_count": null,
   "id": "fa603965",
   "metadata": {},
   "outputs": [],
   "source": [
    "# Evaluate the accuracy of the model using appropriate metrics\n",
    "print('MAE:', mean_absolute_error(y_test, y_pred))\n",
    "print('MSE:', mean_squared_error(y_test, y_pred))\n",
    "print('R-squared:', r2_score(y_test, y_pred))\n"
   ]
  },
  {
   "cell_type": "code",
   "execution_count": null,
   "id": "984cd684",
   "metadata": {},
   "outputs": [],
   "source": [
    "# Use the fitted Random Forest model to forecast sales for the next 3 months\n",
    "future_months = pd.date_range(start='2017-10-01', end='2017-12-01', freq='MS')\n",
    "future_months_num = future_months.month.values.reshape(-1, 1)\n",
    "future_sales = rf.predict(future_months_num)"
   ]
  },
  {
   "cell_type": "code",
   "execution_count": null,
   "id": "b593e625",
   "metadata": {},
   "outputs": [],
   "source": [
    "# Print the forecasted sales values\n",
    "print('Forecasted Sales for the next 3 months:')\n",
    "for i, sales in enumerate(future_sales):\n",
    "    print(f'{future_months[i]}: {sales:.2f}')"
   ]
  }
 ],
 "metadata": {
  "kernelspec": {
   "display_name": "venv",
   "language": "python",
   "name": "venv"
  },
  "language_info": {
   "codemirror_mode": {
    "name": "ipython",
    "version": 3
   },
   "file_extension": ".py",
   "mimetype": "text/x-python",
   "name": "python",
   "nbconvert_exporter": "python",
   "pygments_lexer": "ipython3",
   "version": "3.10.9"
  }
 },
 "nbformat": 4,
 "nbformat_minor": 5
}
