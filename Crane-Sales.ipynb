{
 "cells": [
  {
   "cell_type": "code",
   "execution_count": null,
   "id": "52a5cedb",
   "metadata": {},
   "outputs": [],
   "source": [
    "import pandas as pd"
   ]
  },
  {
   "cell_type": "code",
   "execution_count": null,
   "id": "d8f809d8",
   "metadata": {},
   "outputs": [],
   "source": [
    "df = pd.read_csv('TimeSeries.csv')"
   ]
  },
  {
   "cell_type": "code",
   "execution_count": null,
   "id": "53b2003a",
   "metadata": {},
   "outputs": [],
   "source": [
    "df.head()"
   ]
  },
  {
   "cell_type": "code",
   "execution_count": null,
   "id": "0bc2bed4",
   "metadata": {},
   "outputs": [],
   "source": [
    "df['Date'] = pd.to_datetime(df[['Year', 'Month']].assign(DAY=1))"
   ]
  },
  {
   "cell_type": "code",
   "execution_count": null,
   "id": "1de355ae",
   "metadata": {},
   "outputs": [],
   "source": [
    "df.drop(['Year','Month'],axis=1,inplace=True)"
   ]
  },
  {
   "cell_type": "code",
   "execution_count": null,
   "id": "d5317d01",
   "metadata": {},
   "outputs": [],
   "source": [
    "df"
   ]
  },
  {
   "cell_type": "code",
   "execution_count": null,
   "id": "a468e52e",
   "metadata": {},
   "outputs": [],
   "source": [
    "# find data type of columns\n",
    "df.dtypes"
   ]
  },
  {
   "cell_type": "code",
   "execution_count": null,
   "id": "398464c2",
   "metadata": {},
   "outputs": [],
   "source": [
    "# find the total null values\n",
    "df.isnull().sum()"
   ]
  },
  {
   "cell_type": "code",
   "execution_count": null,
   "id": "2ff60c37",
   "metadata": {},
   "outputs": [],
   "source": [
    "df.columns"
   ]
  },
  {
   "cell_type": "code",
   "execution_count": null,
   "id": "36d7473e",
   "metadata": {},
   "outputs": [],
   "source": [
    "# remove the space before column name\n",
    "df.rename(columns = {' Sales':'Sales'}, inplace = True)"
   ]
  },
  {
   "cell_type": "code",
   "execution_count": null,
   "id": "69d0042b",
   "metadata": {},
   "outputs": [],
   "source": [
    "df.columns"
   ]
  },
  {
   "cell_type": "code",
   "execution_count": null,
   "id": "09594f93",
   "metadata": {},
   "outputs": [],
   "source": [
    "df"
   ]
  },
  {
   "cell_type": "code",
   "execution_count": null,
   "id": "f155bdca",
   "metadata": {},
   "outputs": [],
   "source": [
    "# Convert the \"Sales\" column to numeric\n",
    "df[\"Sales\"] = pd.to_numeric(df[\"Sales\"].str.replace(',', ''))"
   ]
  },
  {
   "cell_type": "code",
   "execution_count": null,
   "id": "a67e25f8",
   "metadata": {},
   "outputs": [],
   "source": [
    "df"
   ]
  },
  {
   "cell_type": "code",
   "execution_count": null,
   "id": "6ebb8582",
   "metadata": {},
   "outputs": [],
   "source": [
    "df.dtypes"
   ]
  },
  {
   "cell_type": "code",
   "execution_count": null,
   "id": "c8707d86",
   "metadata": {},
   "outputs": [],
   "source": [
    "df.set_index('Date',inplace=True)"
   ]
  },
  {
   "cell_type": "code",
   "execution_count": null,
   "id": "cd6f1444",
   "metadata": {
    "scrolled": true
   },
   "outputs": [],
   "source": [
    "df.tail()"
   ]
  },
  {
   "cell_type": "code",
   "execution_count": null,
   "id": "596f49f2",
   "metadata": {},
   "outputs": [],
   "source": [
    "df.describe(percentiles=[.25,.5,.75,.90,.95,.99])"
   ]
  },
  {
   "cell_type": "code",
   "execution_count": null,
   "id": "203a9d43",
   "metadata": {},
   "outputs": [],
   "source": [
    "import matplotlib.pyplot as plt\n",
    "%matplotlib inline\n",
    "import seaborn as sns"
   ]
  },
  {
   "cell_type": "code",
   "execution_count": null,
   "id": "e30c7361",
   "metadata": {},
   "outputs": [],
   "source": [
    "df.isnull().sum()"
   ]
  },
  {
   "cell_type": "markdown",
   "id": "7ba0ac44",
   "metadata": {},
   "source": [
    "# Visualize the data"
   ]
  },
  {
   "cell_type": "code",
   "execution_count": null,
   "id": "7ff3a07d",
   "metadata": {},
   "outputs": [],
   "source": [
    "df.plot()"
   ]
  },
  {
   "cell_type": "code",
   "execution_count": null,
   "id": "8da35485",
   "metadata": {},
   "outputs": [],
   "source": [
    "plt.figure(figsize=(13,9))\n",
    "sns.boxplot(df['Sales'])\n",
    "plt.show()"
   ]
  },
  {
   "cell_type": "markdown",
   "id": "7e8824f1",
   "metadata": {},
   "source": [
    "#### Inference: We can clearly see that there are outliers in the data.\n",
    "\n",
    "We will keep the outliers as they are. We cannot delete them as this is a time series data and deleting any data point will lead to discontinuity in the data.\n"
   ]
  },
  {
   "cell_type": "markdown",
   "id": "a0e82d27",
   "metadata": {},
   "source": [
    "## Use time series analysis and decomposition techniques to identify the trend, seasonal, and residual components in the sales data.\n"
   ]
  },
  {
   "cell_type": "code",
   "execution_count": null,
   "id": "b9d4b9f4",
   "metadata": {},
   "outputs": [],
   "source": [
    "df1 =df"
   ]
  },
  {
   "cell_type": "code",
   "execution_count": null,
   "id": "2c1b66b4",
   "metadata": {},
   "outputs": [],
   "source": [
    "df1"
   ]
  },
  {
   "cell_type": "code",
   "execution_count": null,
   "id": "cc55bf25",
   "metadata": {},
   "outputs": [],
   "source": [
    "df1.index.dtype"
   ]
  },
  {
   "cell_type": "code",
   "execution_count": null,
   "id": "2b68aaf6",
   "metadata": {},
   "outputs": [],
   "source": [
    "plt.figure(figsize=(18,4))\n",
    "plt.plot(df1, label='Sales')\n",
    "plt.legend(loc='best')\n",
    "plt.xticks(rotation = 90,fontweight=\"bold\")\n",
    "plt.show()"
   ]
  },
  {
   "cell_type": "markdown",
   "id": "6c465376",
   "metadata": {},
   "source": [
    "### Additive seasonal decomposition"
   ]
  },
  {
   "cell_type": "code",
   "execution_count": null,
   "id": "ed945887",
   "metadata": {},
   "outputs": [],
   "source": [
    "from pylab import rcParams\n",
    "import statsmodels.api as sm\n",
    "rcParams['figure.figsize'] = 12, 8\n",
    "decomposition = sm.tsa.seasonal_decompose(df1.Sales, model='additive') # additive seasonal index\n",
    "fig = decomposition.plot()\n",
    "plt.show()"
   ]
  },
  {
   "cell_type": "markdown",
   "id": "f4566f22",
   "metadata": {},
   "source": [
    "### Multiplicative seasonal decomposition"
   ]
  },
  {
   "cell_type": "code",
   "execution_count": null,
   "id": "7377c957",
   "metadata": {},
   "outputs": [],
   "source": [
    "decomposition = sm.tsa.seasonal_decompose(df1.Sales, model='multiplicative') # multiplicative seasonal index\n",
    "fig = decomposition.plot()\n",
    "plt.show()"
   ]
  },
  {
   "cell_type": "markdown",
   "id": "38855d89",
   "metadata": {},
   "source": [
    "#### Inference : The data contains level, trend and seasonality."
   ]
  },
  {
   "cell_type": "markdown",
   "id": "2aaa64f9",
   "metadata": {},
   "source": [
    "## Conduct a hypothesis test to determine whether the sales data contains any seasonal dependencies."
   ]
  },
  {
   "cell_type": "code",
   "execution_count": null,
   "id": "36282e55",
   "metadata": {},
   "outputs": [],
   "source": [
    "from statsmodels.tsa.stattools import adfuller"
   ]
  },
  {
   "cell_type": "code",
   "execution_count": null,
   "id": "7497b1a1",
   "metadata": {},
   "outputs": [],
   "source": [
    "test_results = adfuller(df['Sales'])"
   ]
  },
  {
   "cell_type": "code",
   "execution_count": null,
   "id": "09261156",
   "metadata": {},
   "outputs": [],
   "source": [
    "def adfuller_test(sales):\n",
    "    result = adfuller(sales)\n",
    "    labels = ['ADF Test Statistic','p-value' , '#Lags used', 'Number of observations used']\n",
    "    for value,label in zip(result,labels):\n",
    "        print(label+' : '+str(value))\n",
    "    if result[1] <= 0.05:\n",
    "        print(\"strong evidence against the null hypothesis(Ho), reject the null hypothesis. Data has no unit root and is stationary\")\n",
    "    else:\n",
    "        print(\"weak evidence against null hypothesis, time series has a unit root, indicating it is non-stationary \")\n",
    "    "
   ]
  },
  {
   "cell_type": "code",
   "execution_count": null,
   "id": "601fabab",
   "metadata": {},
   "outputs": [],
   "source": [
    "adfuller_test(df['Sales'])"
   ]
  },
  {
   "cell_type": "markdown",
   "id": "74f79a00",
   "metadata": {},
   "source": [
    "## Dickey Fuller Test"
   ]
  },
  {
   "cell_type": "code",
   "execution_count": null,
   "id": "d1df07c4",
   "metadata": {},
   "outputs": [],
   "source": [
    "# Perform the Dickey-Fuller test\n",
    "result = adfuller(df['Sales'])\n",
    "\n",
    "# Extract the test statistic, p-value, and critical values\n",
    "test_statistic = result[0]\n",
    "p_value = result[1]\n",
    "critical_values = result[4]\n",
    "\n"
   ]
  },
  {
   "cell_type": "code",
   "execution_count": null,
   "id": "6f52c7ea",
   "metadata": {},
   "outputs": [],
   "source": [
    "# Print the results of the test\n",
    "alpha = 0.05\n",
    "if p_value < alpha:\n",
    "    print(f\"The p-value ({p_value:.4f}) is less than the significance level ({alpha}), \"\n",
    "          \"so we reject the null hypothesis that the time series is non-stationary and conclude that the data is stationary.\")\n",
    "else:\n",
    "    print(f\"The p-value ({p_value:.4f}) is greater than the significance level ({alpha}), \"\n",
    "          \"so we fail to reject the null hypothesis that the time series is non-stationary and conclude that the data is non-stationary.\")\n",
    "    \n"
   ]
  },
  {
   "cell_type": "code",
   "execution_count": null,
   "id": "79f3c807",
   "metadata": {},
   "outputs": [],
   "source": [
    "print(f\"Test statistic: {test_statistic:.4f}\")\n",
    "print(\"Critical values:\")\n",
    "for key, value in critical_values.items():\n",
    "    print(f\"\\t{key}: {value:.4f}\")"
   ]
  },
  {
   "cell_type": "markdown",
   "id": "a408b8c1",
   "metadata": {},
   "source": [
    "### If non-stationary, convert it into stationary!"
   ]
  },
  {
   "cell_type": "markdown",
   "id": "534e8d39",
   "metadata": {},
   "source": [
    "## Differencing"
   ]
  },
  {
   "cell_type": "code",
   "execution_count": null,
   "id": "6104a2eb",
   "metadata": {},
   "outputs": [],
   "source": [
    "df['Sales First Difference'] = df['Sales'] - df['Sales'].shift(1)"
   ]
  },
  {
   "cell_type": "code",
   "execution_count": null,
   "id": "f80c88e4",
   "metadata": {},
   "outputs": [],
   "source": [
    "df['Seasonal First Difference']=df['Sales']-df['Sales'].shift(12)"
   ]
  },
  {
   "cell_type": "code",
   "execution_count": null,
   "id": "731b9def",
   "metadata": {},
   "outputs": [],
   "source": [
    "df.head(14)"
   ]
  },
  {
   "cell_type": "code",
   "execution_count": null,
   "id": "321f7289",
   "metadata": {},
   "outputs": [],
   "source": [
    "## Again test dickey fuller test\n",
    "adfuller_test(df['Seasonal First Difference'].dropna())"
   ]
  },
  {
   "cell_type": "code",
   "execution_count": null,
   "id": "9cc93b08",
   "metadata": {},
   "outputs": [],
   "source": [
    "df['Seasonal First Difference'].plot()"
   ]
  },
  {
   "cell_type": "markdown",
   "id": "47d4bc96",
   "metadata": {},
   "source": [
    "# Auto Regressive Model"
   ]
  },
  {
   "cell_type": "code",
   "execution_count": null,
   "id": "92f27981",
   "metadata": {},
   "outputs": [],
   "source": [
    "from pandas.plotting import autocorrelation_plot\n",
    "autocorrelation_plot(df['Sales'])\n",
    "plt.show()"
   ]
  },
  {
   "cell_type": "markdown",
   "id": "656d1faa",
   "metadata": {},
   "source": [
    "Final Thoughts on Autocorrelation and Partial Autocorrelation\n",
    "Identification of an AR model is often best done with the PACF.\n",
    "\n",
    "For an AR model, the theoretical PACF “shuts off” past the order of the model. The phrase “shuts off” means that in theory the partial autocorrelations are equal to 0 beyond that point. Put another way, the number of non-zero partial autocorrelations gives the order of the AR model. By the “order of the model” we mean the most extreme lag of x that is used as a predictor.\n",
    "Identification of an MA model is often best done with the ACF rather than the PACF.\n",
    "\n",
    "For an MA model, the theoretical PACF does not shut off, but instead tapers toward 0 in some manner. A clearer pattern for an MA model is in the ACF. The ACF will have non-zero autocorrelations only at lags involved in the model.\n",
    "p,d,q p AR model lags d differencing q MA lags"
   ]
  },
  {
   "cell_type": "code",
   "execution_count": null,
   "id": "c777d756",
   "metadata": {},
   "outputs": [],
   "source": [
    "from statsmodels.graphics.tsaplots import plot_acf,plot_pacf"
   ]
  },
  {
   "cell_type": "code",
   "execution_count": null,
   "id": "f0ae5a47",
   "metadata": {},
   "outputs": [],
   "source": [
    "fig = plt.figure(figsize=(12,8))\n",
    "ax1 = fig.add_subplot(211)\n",
    "fig = sm.graphics.tsa.plot_acf(df['Seasonal First Difference'].iloc[13:],lags=40,ax=ax1)\n",
    "ax2 = fig.add_subplot(212)\n",
    "fig = sm.graphics.tsa.plot_pacf(df['Seasonal First Difference'].iloc[13:],lags=40,ax=ax2)"
   ]
  },
  {
   "cell_type": "markdown",
   "id": "1a70a22e",
   "metadata": {},
   "source": [
    "# SARIMA"
   ]
  },
  {
   "cell_type": "code",
   "execution_count": null,
   "id": "80b7f03e",
   "metadata": {},
   "outputs": [],
   "source": [
    "import statsmodels.api as sm\n"
   ]
  },
  {
   "cell_type": "code",
   "execution_count": null,
   "id": "91b3694a",
   "metadata": {},
   "outputs": [],
   "source": [
    "\n",
    "model=sm.tsa.statespace.SARIMAX(df['Sales'],order=(1, 1, 1),seasonal_order=(1,1,1,12))\n",
    "results=model.fit()"
   ]
  },
  {
   "cell_type": "code",
   "execution_count": null,
   "id": "c16dcfac",
   "metadata": {},
   "outputs": [],
   "source": [
    "\n",
    "df['forecast']=results.predict(start=140,end=154,dynamic=True)\n",
    "df[['Sales','forecast']].plot(figsize=(12,8))"
   ]
  },
  {
   "cell_type": "code",
   "execution_count": null,
   "id": "088033ed",
   "metadata": {},
   "outputs": [],
   "source": [
    "from pandas.tseries.offsets import DateOffset\n",
    "#  3 months\n",
    "future_dates=[df.index[-1]+ DateOffset(months=x)for x in range(0,4)]"
   ]
  },
  {
   "cell_type": "code",
   "execution_count": null,
   "id": "14560e87",
   "metadata": {},
   "outputs": [],
   "source": [
    "future_datest_df=pd.DataFrame(index=future_dates[1:],columns=df.columns)"
   ]
  },
  {
   "cell_type": "code",
   "execution_count": null,
   "id": "807f7aab",
   "metadata": {},
   "outputs": [],
   "source": [
    "future_datest_df.tail()"
   ]
  },
  {
   "cell_type": "code",
   "execution_count": null,
   "id": "78814dc8",
   "metadata": {},
   "outputs": [],
   "source": [
    "future_df=pd.concat([df1,future_datest_df])"
   ]
  },
  {
   "cell_type": "code",
   "execution_count": null,
   "id": "9a06a952",
   "metadata": {},
   "outputs": [],
   "source": [
    "future_df['forecast'] = results.predict(start = 151, end = 157, dynamic= True)  \n",
    "future_df[['Sales', 'forecast']].plot(figsize=(12, 8)) "
   ]
  },
  {
   "cell_type": "code",
   "execution_count": null,
   "id": "492e84f8",
   "metadata": {},
   "outputs": [],
   "source": []
  },
  {
   "cell_type": "code",
   "execution_count": null,
   "id": "1fc10ea5",
   "metadata": {},
   "outputs": [],
   "source": []
  },
  {
   "cell_type": "markdown",
   "id": "deaf394c",
   "metadata": {},
   "source": [
    "### If seasonal patterns are present, apply advanced time series forecasting techniques such as the seasonal ARIMA model or exponential smoothing or xgboost, prophet, to capture the seasonal effects in the data."
   ]
  },
  {
   "cell_type": "markdown",
   "id": "483a72ab",
   "metadata": {},
   "source": [
    "## Don't know what to do next!"
   ]
  },
  {
   "cell_type": "markdown",
   "id": "426f4bea",
   "metadata": {},
   "source": [
    "# Random Forest"
   ]
  },
  {
   "cell_type": "code",
   "execution_count": null,
   "id": "dc2f1860",
   "metadata": {},
   "outputs": [],
   "source": []
  }
 ],
 "metadata": {
  "kernelspec": {
   "display_name": "venv",
   "language": "python",
   "name": "venv"
  },
  "language_info": {
   "codemirror_mode": {
    "name": "ipython",
    "version": 3
   },
   "file_extension": ".py",
   "mimetype": "text/x-python",
   "name": "python",
   "nbconvert_exporter": "python",
   "pygments_lexer": "ipython3",
   "version": "3.10.9"
  }
 },
 "nbformat": 4,
 "nbformat_minor": 5
}
